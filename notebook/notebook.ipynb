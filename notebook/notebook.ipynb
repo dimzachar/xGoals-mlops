{
 "cells": [
  {
   "cell_type": "markdown",
   "id": "3460805d",
   "metadata": {},
   "source": [
    "xG is essentially the probability that a particular shot will result in a goal, based on data from many different matches and shots.\n",
    "\n",
    "xG can provide insights into a match beyond the scoreline, help predict future goals better than past goals, guide players and coaches in decision-making, and serve as a foundation for more complex football data models.\n",
    "\n",
    "\n",
    "To build an expected goals model, we'd typically need information on:\n",
    "\n",
    "Whether each event was a shot.\n",
    "Whether each shot resulted in a goal.\n",
    "The location from which each shot was taken.\n",
    "Possibly other factors like the player taking the shot, the type of assist that led to the shot, etc.\n",
    "\n",
    "\n",
    "Wyscout assumes that the pitch is 100 units long and 100 units wide, with the origin (0,0) at the center of the pitch and the goal at (100,50). We convert the pitch coordinates from percentages to an actual size of 105m x 68m."
   ]
  },
  {
   "cell_type": "code",
   "execution_count": 1,
   "id": "cdf3ec62",
   "metadata": {},
   "outputs": [],
   "source": [
    "import json\n",
    "import numpy as np\n",
    "import pandas as pd\n",
    "import seaborn as sns\n",
    "import matplotlib.pyplot as plt\n",
    "from mplsoccer import Pitch, VerticalPitch\n",
    "# from sklearn.model_selection import train_test_split\n",
    "# from xgboost import XGBClassifier\n",
    "from sklearn.model_selection import train_test_split\n",
    "from sklearn.feature_extraction import DictVectorizer\n",
    "import xgboost as xgb\n",
    "\n",
    "from sklearn.tree import DecisionTreeClassifier\n",
    "from sklearn.ensemble import RandomForestClassifier\n",
    "from sklearn.metrics import roc_auc_score, accuracy_score, precision_score, recall_score\n",
    "from sklearn.metrics import roc_curve, auc\n",
    "from time import time\n",
    "from sklearn.metrics import confusion_matrix, classification_report, f1_score\n",
    "from sklearn.metrics import average_precision_score\n",
    "from sklearn.metrics import cohen_kappa_score\n",
    "\n",
    "import os"
   ]
  },
  {
   "cell_type": "code",
   "execution_count": 2,
   "id": "87923b57",
   "metadata": {},
   "outputs": [],
   "source": [
    "# # Load the data\n",
    "# data_euro = pd.read_json('events_European_Championship.json')\n",
    "# # Load the World Cup data\n",
    "# data_wc = pd.read_json('events_World_Cup.json')\n",
    "# # Load the Germany data\n",
    "# data_germany = pd.read_json('events_Germany.json')\n",
    "# # Load the English data\n",
    "# data_england = pd.read_json('events_England.json')\n",
    "\n",
    "\n",
    "\n",
    "# # Combine the two datasets\n",
    "# data = pd.concat([data_euro, data_wc, data_germany, data_england])\n",
    "\n",
    "# # Check the shape of the combined dataset\n",
    "# data.shape"
   ]
  },
  {
   "cell_type": "code",
   "execution_count": 3,
   "id": "ad3721c8",
   "metadata": {},
   "outputs": [
    {
     "data": {
      "text/plain": [
       "(3251294, 12)"
      ]
     },
     "execution_count": 3,
     "metadata": {},
     "output_type": "execute_result"
    }
   ],
   "source": [
    "# Define the directory where the JSON files are located\n",
    "directory = \n",
    "\n",
    "# Initialize an empty DataFrame to store the data\n",
    "data = pd.DataFrame()\n",
    "\n",
    "# Loop through all JSON files in the directory\n",
    "for filename in os.listdir(directory):\n",
    "    # Check if the file is a JSON file\n",
    "    if filename.endswith('.json'):\n",
    "        # Construct the full file path\n",
    "        filepath = os.path.join(directory, filename)\n",
    "        # Load the data from the JSON file\n",
    "        data_temp = pd.read_json(filepath)\n",
    "        # Append the data to the main DataFrame\n",
    "        data = pd.concat([data, data_temp])\n",
    "\n",
    "# Check the shape of the combined dataset\n",
    "data.shape"
   ]
  },
  {
   "cell_type": "code",
   "execution_count": 4,
   "id": "47493b2b",
   "metadata": {},
   "outputs": [
    {
     "data": {
      "text/html": [
       "<div>\n",
       "<style scoped>\n",
       "    .dataframe tbody tr th:only-of-type {\n",
       "        vertical-align: middle;\n",
       "    }\n",
       "\n",
       "    .dataframe tbody tr th {\n",
       "        vertical-align: top;\n",
       "    }\n",
       "\n",
       "    .dataframe thead th {\n",
       "        text-align: right;\n",
       "    }\n",
       "</style>\n",
       "<table border=\"1\" class=\"dataframe\">\n",
       "  <thead>\n",
       "    <tr style=\"text-align: right;\">\n",
       "      <th></th>\n",
       "      <th>eventId</th>\n",
       "      <th>subEventName</th>\n",
       "      <th>tags</th>\n",
       "      <th>playerId</th>\n",
       "      <th>positions</th>\n",
       "      <th>matchId</th>\n",
       "      <th>eventName</th>\n",
       "      <th>teamId</th>\n",
       "      <th>matchPeriod</th>\n",
       "      <th>eventSec</th>\n",
       "      <th>subEventId</th>\n",
       "      <th>id</th>\n",
       "    </tr>\n",
       "  </thead>\n",
       "  <tbody>\n",
       "    <tr>\n",
       "      <th>0</th>\n",
       "      <td>8</td>\n",
       "      <td>Simple pass</td>\n",
       "      <td>[{'id': 1801}]</td>\n",
       "      <td>25413</td>\n",
       "      <td>[{'y': 49, 'x': 49}, {'y': 78, 'x': 31}]</td>\n",
       "      <td>2499719</td>\n",
       "      <td>Pass</td>\n",
       "      <td>1609</td>\n",
       "      <td>1H</td>\n",
       "      <td>2.758649</td>\n",
       "      <td>85</td>\n",
       "      <td>177959171</td>\n",
       "    </tr>\n",
       "    <tr>\n",
       "      <th>1</th>\n",
       "      <td>8</td>\n",
       "      <td>High pass</td>\n",
       "      <td>[{'id': 1801}]</td>\n",
       "      <td>370224</td>\n",
       "      <td>[{'y': 78, 'x': 31}, {'y': 75, 'x': 51}]</td>\n",
       "      <td>2499719</td>\n",
       "      <td>Pass</td>\n",
       "      <td>1609</td>\n",
       "      <td>1H</td>\n",
       "      <td>4.946850</td>\n",
       "      <td>83</td>\n",
       "      <td>177959172</td>\n",
       "    </tr>\n",
       "  </tbody>\n",
       "</table>\n",
       "</div>"
      ],
      "text/plain": [
       "   eventId subEventName            tags  playerId  \\\n",
       "0        8  Simple pass  [{'id': 1801}]     25413   \n",
       "1        8    High pass  [{'id': 1801}]    370224   \n",
       "\n",
       "                                  positions  matchId eventName  teamId  \\\n",
       "0  [{'y': 49, 'x': 49}, {'y': 78, 'x': 31}]  2499719      Pass    1609   \n",
       "1  [{'y': 78, 'x': 31}, {'y': 75, 'x': 51}]  2499719      Pass    1609   \n",
       "\n",
       "  matchPeriod  eventSec subEventId         id  \n",
       "0          1H  2.758649         85  177959171  \n",
       "1          1H  4.946850         83  177959172  "
      ]
     },
     "execution_count": 4,
     "metadata": {},
     "output_type": "execute_result"
    }
   ],
   "source": [
    "# Show the first few records to understand the structure\n",
    "data.head(2)"
   ]
  },
  {
   "cell_type": "code",
   "execution_count": 5,
   "id": "2ae5f5e8",
   "metadata": {},
   "outputs": [
    {
     "data": {
      "text/plain": [
       "{'Duel',\n",
       " 'Foul',\n",
       " 'Free Kick',\n",
       " 'Goalkeeper leaving line',\n",
       " 'Interruption',\n",
       " 'Offside',\n",
       " 'Others on the ball',\n",
       " 'Pass',\n",
       " 'Save attempt',\n",
       " 'Shot'}"
      ]
     },
     "execution_count": 5,
     "metadata": {},
     "output_type": "execute_result"
    }
   ],
   "source": [
    "event_names = set(data['eventName'])\n",
    "event_names"
   ]
  },
  {
   "cell_type": "code",
   "execution_count": 6,
   "id": "6df4f2aa",
   "metadata": {},
   "outputs": [
    {
     "data": {
      "image/png": "[encoded data removed]",
      "text/plain": [
       "<Figure size 1000x600 with 1 Axes>"
      ]
     },
     "metadata": {},
     "output_type": "display_data"
    }
   ],
   "source": [
    "# Count the number of each event type\n",
    "event_counts = data['eventName'].value_counts()\n",
    "\n",
    "# Plot the number of each event type\n",
    "plt.figure(figsize=(10, 6))\n",
    "sns.barplot(x=event_counts.index, y=event_counts.values, color='darkseagreen')\n",
    "plt.xlabel('Event Name')\n",
    "plt.ylabel('Count')\n",
    "plt.title('Number of Each Event Type')\n",
    "plt.xticks(rotation=90)\n",
    "plt.show()"
   ]
  },
  {
   "cell_type": "code",
   "execution_count": 7,
   "id": "1f3eb633",
   "metadata": {},
   "outputs": [
    {
     "name": "stdout",
     "output_type": "stream",
     "text": [
      "<class 'pandas.core.frame.DataFrame'>\n",
      "Int64Index: 3251294 entries, 0 to 101758\n",
      "Data columns (total 12 columns):\n",
      " #   Column        Dtype  \n",
      "---  ------        -----  \n",
      " 0   eventId       int64  \n",
      " 1   subEventName  object \n",
      " 2   tags          object \n",
      " 3   playerId      int64  \n",
      " 4   positions     object \n",
      " 5   matchId       int64  \n",
      " 6   eventName     object \n",
      " 7   teamId        int64  \n",
      " 8   matchPeriod   object \n",
      " 9   eventSec      float64\n",
      " 10  subEventId    object \n",
      " 11  id            int64  \n",
      "dtypes: float64(1), int64(5), object(6)\n",
      "memory usage: 322.5+ MB\n"
     ]
    }
   ],
   "source": [
    "# Get a general information about the DataFrame\n",
    "data_info = data.info()\n",
    "\n",
    "data_info"
   ]
  },
  {
   "cell_type": "code",
   "execution_count": 8,
   "id": "b7b3d4a1",
   "metadata": {},
   "outputs": [
    {
     "data": {
      "text/plain": [
       "eventId         0\n",
       "subEventName    0\n",
       "tags            0\n",
       "playerId        0\n",
       "positions       0\n",
       "matchId         0\n",
       "eventName       0\n",
       "teamId          0\n",
       "matchPeriod     0\n",
       "eventSec        0\n",
       "subEventId      0\n",
       "id              0\n",
       "dtype: int64"
      ]
     },
     "execution_count": 8,
     "metadata": {},
     "output_type": "execute_result"
    }
   ],
   "source": [
    "# Check for missing values in the DataFrame\n",
    "data.isnull().sum()"
   ]
  },
  {
   "cell_type": "markdown",
   "id": "30169a19",
   "metadata": {},
   "source": [
    "We will focus then only on shots excluding headers, free kicks, and penalties."
   ]
  },
  {
   "cell_type": "code",
   "execution_count": 9,
   "id": "d6d101a1",
   "metadata": {},
   "outputs": [
    {
     "data": {
      "text/html": [
       "<div>\n",
       "<style scoped>\n",
       "    .dataframe tbody tr th:only-of-type {\n",
       "        vertical-align: middle;\n",
       "    }\n",
       "\n",
       "    .dataframe tbody tr th {\n",
       "        vertical-align: top;\n",
       "    }\n",
       "\n",
       "    .dataframe thead th {\n",
       "        text-align: right;\n",
       "    }\n",
       "</style>\n",
       "<table border=\"1\" class=\"dataframe\">\n",
       "  <thead>\n",
       "    <tr style=\"text-align: right;\">\n",
       "      <th></th>\n",
       "      <th>eventId</th>\n",
       "      <th>subEventName</th>\n",
       "      <th>tags</th>\n",
       "      <th>playerId</th>\n",
       "      <th>positions</th>\n",
       "      <th>matchId</th>\n",
       "      <th>eventName</th>\n",
       "      <th>teamId</th>\n",
       "      <th>matchPeriod</th>\n",
       "      <th>eventSec</th>\n",
       "      <th>subEventId</th>\n",
       "      <th>id</th>\n",
       "    </tr>\n",
       "  </thead>\n",
       "  <tbody>\n",
       "    <tr>\n",
       "      <th>46</th>\n",
       "      <td>10</td>\n",
       "      <td>Shot</td>\n",
       "      <td>[{'id': 101}, {'id': 402}, {'id': 201}, {'id':...</td>\n",
       "      <td>25413</td>\n",
       "      <td>[{'y': 41, 'x': 88}, {'y': 0, 'x': 0}]</td>\n",
       "      <td>2499719</td>\n",
       "      <td>Shot</td>\n",
       "      <td>1609</td>\n",
       "      <td>1H</td>\n",
       "      <td>94.595788</td>\n",
       "      <td>100</td>\n",
       "      <td>177959212</td>\n",
       "    </tr>\n",
       "    <tr>\n",
       "      <th>62</th>\n",
       "      <td>10</td>\n",
       "      <td>Shot</td>\n",
       "      <td>[{'id': 401}, {'id': 201}, {'id': 1211}, {'id'...</td>\n",
       "      <td>26150</td>\n",
       "      <td>[{'y': 52, 'x': 85}, {'y': 100, 'x': 100}]</td>\n",
       "      <td>2499719</td>\n",
       "      <td>Shot</td>\n",
       "      <td>1631</td>\n",
       "      <td>1H</td>\n",
       "      <td>179.854785</td>\n",
       "      <td>100</td>\n",
       "      <td>177959247</td>\n",
       "    </tr>\n",
       "  </tbody>\n",
       "</table>\n",
       "</div>"
      ],
      "text/plain": [
       "    eventId subEventName                                               tags  \\\n",
       "46       10         Shot  [{'id': 101}, {'id': 402}, {'id': 201}, {'id':...   \n",
       "62       10         Shot  [{'id': 401}, {'id': 201}, {'id': 1211}, {'id'...   \n",
       "\n",
       "    playerId                                   positions  matchId eventName  \\\n",
       "46     25413      [{'y': 41, 'x': 88}, {'y': 0, 'x': 0}]  2499719      Shot   \n",
       "62     26150  [{'y': 52, 'x': 85}, {'y': 100, 'x': 100}]  2499719      Shot   \n",
       "\n",
       "    teamId matchPeriod    eventSec subEventId         id  \n",
       "46    1609          1H   94.595788        100  177959212  \n",
       "62    1631          1H  179.854785        100  177959247  "
      ]
     },
     "execution_count": 9,
     "metadata": {},
     "output_type": "execute_result"
    }
   ],
   "source": [
    "# Filter only shot events\n",
    "shot_df = data.loc[data['subEventName'] == 'Shot'].copy()\n",
    "shot_df.head(2)"
   ]
  },
  {
   "cell_type": "code",
   "execution_count": 10,
   "id": "f4bf9ce2",
   "metadata": {},
   "outputs": [
    {
     "data": {
      "text/plain": [
       "43078"
      ]
     },
     "execution_count": 10,
     "metadata": {},
     "output_type": "execute_result"
    }
   ],
   "source": [
    "# Count the total number of shots\n",
    "num_shots = shot_df.shape[0]\n",
    "\n",
    "num_shots"
   ]
  },
  {
   "cell_type": "markdown",
   "id": "36f7e1ef",
   "metadata": {},
   "source": [
    "For an xGoals model, we're interested in \"Shot\" events.  The tags field can also be important, as it might contain information about whether the shot resulted in a goal, which would be our target variable.\n",
    "\n",
    "We'll extract the following features from each shot event:\n",
    "\n",
    "distance_to_goal: the Euclidean distance from the starting position of the shot to the goal\n",
    "\n",
    "angle_to_goal: the angle from the starting position of the shot to the goal\n",
    "\n",
    "matchPeriod: the period of the match when the event happened, encoded as 0 for first half and 1 for second half\n",
    "\n",
    "eventSec: the time when the event happened in seconds\n",
    "\n",
    "The target variable will be whether the shot resulted in a goal, which can be extracted from the tags field. If the tags field contains a dictionary with 'id': 101 (indicating a goal), the target variable will be 1; otherwise, it will be 0.\n",
    "\n",
    "\n",
    "Distance to the goal: This is a crucial feature because, generally, the closer a player is to the goal, the more likely they are to score.\n",
    "\n",
    "Angle to the goal: This is another essential feature. The angle to the goal from the position of the shot can greatly influence the likelihood of a goal. If a player is directly in front of the goal, they will have a large angle and a better chance of scoring than if they were at a tight angle to the goal. The larger the angle (i.e., the more of the goal you can see), the greater the probability of scoring.\n",
    "\n",
    "Match period: It might be helpful to consider the time of the match when the shot was made. Players might be more tired and make mistakes near the end of each half, which might influence the likelihood of a goal.\n",
    "\n",
    "Time elapsed in the current match period (eventSec): This is the time elapsed in the current half or overtime period at the time of the shot. Similar to match_period, this could capture effects related to player fatigue.\n",
    "\n",
    "\n",
    "It's worth noting that there are many other factors that can influence the likelihood of a shot resulting in a goal, and ideally you would want to include as many of them as possible in your model. These can include player skills, goalkeeper skills, game situation, pressure on the player, speed of play, and many others."
   ]
  },
  {
   "cell_type": "code",
   "execution_count": 11,
   "id": "0fe77a3f",
   "metadata": {},
   "outputs": [],
   "source": [
    "shot_df[\"X\"] = shot_df['positions'].apply(lambda cell: (100 - cell[0]['x']) * 105/100)\n",
    "shot_df[\"Y\"] = shot_df['positions'].apply(lambda cell: cell[0]['y'] * 68/100)\n",
    "shot_df[\"C\"] = shot_df['positions'].apply(lambda cell: abs(cell[0]['y'] - 50) * 68/100)"
   ]
  },
  {
   "cell_type": "markdown",
   "id": "917f5c1b",
   "metadata": {},
   "source": [
    "- The 'X' column represents the transformed x-coordinate on a 105x68 pitch with the goal at x=0.\n",
    "- The 'Y' column represents the transformed y-coordinate on a 105x68 pitch.\n",
    "- The 'C' column represents the absolute distance from the centerline of the pitch."
   ]
  },
  {
   "cell_type": "markdown",
   "id": "0d85c85b",
   "metadata": {},
   "source": [
    "All the shots are taken in the direction of increasing X (i.e., towards the right), which means the shots are all on the left side of the pitch since the goal is treated as x=0. "
   ]
  },
  {
   "cell_type": "code",
   "execution_count": 12,
   "id": "b62a1908",
   "metadata": {},
   "outputs": [
    {
     "data": {
      "text/html": [
       "<div>\n",
       "<style scoped>\n",
       "    .dataframe tbody tr th:only-of-type {\n",
       "        vertical-align: middle;\n",
       "    }\n",
       "\n",
       "    .dataframe tbody tr th {\n",
       "        vertical-align: top;\n",
       "    }\n",
       "\n",
       "    .dataframe thead th {\n",
       "        text-align: right;\n",
       "    }\n",
       "</style>\n",
       "<table border=\"1\" class=\"dataframe\">\n",
       "  <thead>\n",
       "    <tr style=\"text-align: right;\">\n",
       "      <th></th>\n",
       "      <th>distance_to_goal</th>\n",
       "      <th>angle_to_goal</th>\n",
       "      <th>is_goal</th>\n",
       "    </tr>\n",
       "  </thead>\n",
       "  <tbody>\n",
       "    <tr>\n",
       "      <th>46</th>\n",
       "      <td>14.007655</td>\n",
       "      <td>0.467241</td>\n",
       "      <td>1</td>\n",
       "    </tr>\n",
       "    <tr>\n",
       "      <th>62</th>\n",
       "      <td>15.808608</td>\n",
       "      <td>0.453557</td>\n",
       "      <td>0</td>\n",
       "    </tr>\n",
       "    <tr>\n",
       "      <th>91</th>\n",
       "      <td>4.414703</td>\n",
       "      <td>1.375115</td>\n",
       "      <td>1</td>\n",
       "    </tr>\n",
       "    <tr>\n",
       "      <th>128</th>\n",
       "      <td>23.057235</td>\n",
       "      <td>0.274666</td>\n",
       "      <td>0</td>\n",
       "    </tr>\n",
       "    <tr>\n",
       "      <th>249</th>\n",
       "      <td>29.563872</td>\n",
       "      <td>0.219665</td>\n",
       "      <td>0</td>\n",
       "    </tr>\n",
       "  </tbody>\n",
       "</table>\n",
       "</div>"
      ],
      "text/plain": [
       "     distance_to_goal  angle_to_goal  is_goal\n",
       "46          14.007655       0.467241        1\n",
       "62          15.808608       0.453557        0\n",
       "91           4.414703       1.375115        1\n",
       "128         23.057235       0.274666        0\n",
       "249         29.563872       0.219665        0"
      ]
     },
     "execution_count": 12,
     "metadata": {},
     "output_type": "execute_result"
    }
   ],
   "source": [
    "def calculate_distance_to_goal(X, C):\n",
    "    \"\"\"Calculate the Euclidean distance from a position to the goal.\"\"\"\n",
    "    return np.sqrt(X**2 + C**2)\n",
    "\n",
    "def calculate_angle_to_goal(X, C):\n",
    "    \"\"\"Calculate the angle from a position to the goal.\"\"\"\n",
    "    return np.where(np.arctan(7.32 * X / (X**2 + C**2 - (7.32/2)**2)) > 0, \n",
    "                    np.arctan(7.32 * X /(X**2 + C**2 - (7.32/2)**2)), \n",
    "                    np.arctan(7.32 * X /(X**2 + C**2 - (7.32/2)**2)) + np.pi)\n",
    "\n",
    "def extract_features_and_target(shot_df):\n",
    "    \"\"\"Extract features and target from a DataFrame of shot events.\"\"\"\n",
    "    # Calculate features\n",
    "    shot_df['distance_to_goal'] = calculate_distance_to_goal(shot_df['X'], shot_df['C'])\n",
    "    shot_df['angle_to_goal'] = calculate_angle_to_goal(shot_df['X'], shot_df['C'])\n",
    "#     shot_df['distance_angle_sum'] = shot_df['distance_to_goal'] + shot_df['angle_to_goal']\n",
    "#     shot_df['match_period'] = (shot_df['matchPeriod'] == '2H').astype(int)\n",
    "    \n",
    "    # Determine whether the shot resulted in a goal\n",
    "    shot_df['is_goal'] = shot_df['tags'].apply(lambda tags: any(tag['id'] == 101 for tag in tags))\n",
    "    shot_df['is_goal'] = shot_df['is_goal'].astype(int)\n",
    "    \n",
    "    return shot_df[['distance_to_goal', 'angle_to_goal', 'is_goal']]\n",
    "\n",
    "# Extract features and target from the shot events\n",
    "df = extract_features_and_target(shot_df)\n",
    "\n",
    "df.head()\n"
   ]
  },
  {
   "cell_type": "code",
   "execution_count": 13,
   "id": "05126a22",
   "metadata": {},
   "outputs": [
    {
     "data": {
      "text/html": [
       "<style type=\"text/css\">\n",
       "#T_8b57c_row0_col0, #T_8b57c_row0_col1, #T_8b57c_row0_col2 {\n",
       "  background-color: #023858;\n",
       "  color: #f1f1f1;\n",
       "}\n",
       "#T_8b57c_row1_col0, #T_8b57c_row1_col1, #T_8b57c_row1_col2, #T_8b57c_row2_col0, #T_8b57c_row2_col1, #T_8b57c_row2_col2, #T_8b57c_row3_col0, #T_8b57c_row3_col1, #T_8b57c_row3_col2, #T_8b57c_row4_col0, #T_8b57c_row4_col1, #T_8b57c_row4_col2, #T_8b57c_row5_col0, #T_8b57c_row5_col1, #T_8b57c_row5_col2, #T_8b57c_row6_col0, #T_8b57c_row6_col1, #T_8b57c_row6_col2, #T_8b57c_row7_col0, #T_8b57c_row7_col1, #T_8b57c_row7_col2 {\n",
       "  background-color: #fff7fb;\n",
       "  color: #000000;\n",
       "}\n",
       "</style>\n",
       "<table id=\"T_8b57c\">\n",
       "  <thead>\n",
       "    <tr>\n",
       "      <th class=\"blank level0\" >&nbsp;</th>\n",
       "      <th id=\"T_8b57c_level0_col0\" class=\"col_heading level0 col0\" >distance_to_goal</th>\n",
       "      <th id=\"T_8b57c_level0_col1\" class=\"col_heading level0 col1\" >angle_to_goal</th>\n",
       "      <th id=\"T_8b57c_level0_col2\" class=\"col_heading level0 col2\" >is_goal</th>\n",
       "    </tr>\n",
       "  </thead>\n",
       "  <tbody>\n",
       "    <tr>\n",
       "      <th id=\"T_8b57c_level0_row0\" class=\"row_heading level0 row0\" >count</th>\n",
       "      <td id=\"T_8b57c_row0_col0\" class=\"data row0 col0\" >43078.000000</td>\n",
       "      <td id=\"T_8b57c_row0_col1\" class=\"data row0 col1\" >43078.000000</td>\n",
       "      <td id=\"T_8b57c_row0_col2\" class=\"data row0 col2\" >43078.000000</td>\n",
       "    </tr>\n",
       "    <tr>\n",
       "      <th id=\"T_8b57c_level0_row1\" class=\"row_heading level0 row1\" >mean</th>\n",
       "      <td id=\"T_8b57c_row1_col0\" class=\"data row1 col0\" >18.592949</td>\n",
       "      <td id=\"T_8b57c_row1_col1\" class=\"data row1 col1\" >0.414428</td>\n",
       "      <td id=\"T_8b57c_row1_col2\" class=\"data row1 col2\" >0.104276</td>\n",
       "    </tr>\n",
       "    <tr>\n",
       "      <th id=\"T_8b57c_level0_row2\" class=\"row_heading level0 row2\" >std</th>\n",
       "      <td id=\"T_8b57c_row2_col0\" class=\"data row2 col0\" >8.419041</td>\n",
       "      <td id=\"T_8b57c_row2_col1\" class=\"data row2 col1\" >0.254495</td>\n",
       "      <td id=\"T_8b57c_row2_col2\" class=\"data row2 col2\" >0.305622</td>\n",
       "    </tr>\n",
       "    <tr>\n",
       "      <th id=\"T_8b57c_level0_row3\" class=\"row_heading level0 row3\" >min</th>\n",
       "      <td id=\"T_8b57c_row3_col0\" class=\"data row3 col0\" >0.680000</td>\n",
       "      <td id=\"T_8b57c_row3_col1\" class=\"data row3 col1\" >0.040088</td>\n",
       "      <td id=\"T_8b57c_row3_col2\" class=\"data row3 col2\" >0.000000</td>\n",
       "    </tr>\n",
       "    <tr>\n",
       "      <th id=\"T_8b57c_level0_row4\" class=\"row_heading level0 row4\" >25%</th>\n",
       "      <td id=\"T_8b57c_row4_col0\" class=\"data row4 col0\" >12.249445</td>\n",
       "      <td id=\"T_8b57c_row4_col1\" class=\"data row4 col1\" >0.250988</td>\n",
       "      <td id=\"T_8b57c_row4_col2\" class=\"data row4 col2\" >0.000000</td>\n",
       "    </tr>\n",
       "    <tr>\n",
       "      <th id=\"T_8b57c_level0_row5\" class=\"row_heading level0 row5\" >50%</th>\n",
       "      <td id=\"T_8b57c_row5_col0\" class=\"data row5 col0\" >17.153297</td>\n",
       "      <td id=\"T_8b57c_row5_col1\" class=\"data row5 col1\" >0.327782</td>\n",
       "      <td id=\"T_8b57c_row5_col2\" class=\"data row5 col2\" >0.000000</td>\n",
       "    </tr>\n",
       "    <tr>\n",
       "      <th id=\"T_8b57c_level0_row6\" class=\"row_heading level0 row6\" >75%</th>\n",
       "      <td id=\"T_8b57c_row6_col0\" class=\"data row6 col0\" >24.936000</td>\n",
       "      <td id=\"T_8b57c_row6_col1\" class=\"data row6 col1\" >0.505984</td>\n",
       "      <td id=\"T_8b57c_row6_col2\" class=\"data row6 col2\" >0.000000</td>\n",
       "    </tr>\n",
       "    <tr>\n",
       "      <th id=\"T_8b57c_level0_row7\" class=\"row_heading level0 row7\" >max</th>\n",
       "      <td id=\"T_8b57c_row7_col0\" class=\"data row7 col0\" >103.952224</td>\n",
       "      <td id=\"T_8b57c_row7_col1\" class=\"data row7 col1\" >3.141593</td>\n",
       "      <td id=\"T_8b57c_row7_col2\" class=\"data row7 col2\" >1.000000</td>\n",
       "    </tr>\n",
       "  </tbody>\n",
       "</table>\n"
      ],
      "text/plain": [
       "<pandas.io.formats.style.Styler at 0x2366d2e8e20>"
      ]
     },
     "execution_count": 13,
     "metadata": {},
     "output_type": "execute_result"
    }
   ],
   "source": [
    "# Get statistical summary of the numerical columns\n",
    "df.describe().style.background_gradient()"
   ]
  },
  {
   "cell_type": "code",
   "execution_count": 14,
   "id": "33e3b4ba",
   "metadata": {},
   "outputs": [
    {
     "data": {
      "text/plain": [
       "distance_to_goal    0\n",
       "angle_to_goal       0\n",
       "is_goal             0\n",
       "dtype: int64"
      ]
     },
     "execution_count": 14,
     "metadata": {},
     "output_type": "execute_result"
    }
   ],
   "source": [
    "# Check for missing values in the DataFrame\n",
    "df.isnull().sum()"
   ]
  },
  {
   "cell_type": "code",
   "execution_count": 15,
   "id": "c5eaaecc",
   "metadata": {},
   "outputs": [
    {
     "data": {
      "text/plain": [
       "distance_to_goal    1491\n",
       "angle_to_goal       1485\n",
       "is_goal                2\n",
       "dtype: int64"
      ]
     },
     "execution_count": 15,
     "metadata": {},
     "output_type": "execute_result"
    }
   ],
   "source": [
    "df.nunique()"
   ]
  },
  {
   "cell_type": "code",
   "execution_count": 16,
   "id": "43723b6c",
   "metadata": {},
   "outputs": [
    {
     "data": {
      "image/png": "[encoded data removed]",
      "text/plain": [
       "<Figure size 1600x600 with 2 Axes>"
      ]
     },
     "metadata": {},
     "output_type": "display_data"
    }
   ],
   "source": [
    "plt.figure(figsize=(16, 6))\n",
    "# define the mask to set the values in the upper triangle to True\n",
    "mask = np.triu(np.ones_like(df.corr(), dtype=bool))\n",
    "heatmap = sns.heatmap(df.corr(),\n",
    "                      mask=mask,\n",
    "                      vmin=-1,\n",
    "                      vmax=1,\n",
    "                      annot=True,\n",
    "                      cmap='BrBG')\n",
    "heatmap.set_title('Triangle Correlation Heatmap',\n",
    "                  fontdict={'fontsize': 18},\n",
    "                  pad=16)\n",
    "plt.show()"
   ]
  },
  {
   "cell_type": "code",
   "execution_count": 17,
   "id": "e26a0503",
   "metadata": {},
   "outputs": [],
   "source": [
    "\n",
    "# # Create a figure with two subplots\n",
    "# fig, axs = plt.subplots(2, figsize=(10, 8))\n",
    "\n",
    "# # Plot histogram for distance_to_goal\n",
    "# axs[0].hist(df['distance_to_goal'], bins=20, edgecolor='black', color='darkseagreen')\n",
    "# axs[0].set_title('Histogram of Distance to Goal')\n",
    "# axs[0].set_xlabel('Distance to Goal')\n",
    "# axs[0].set_ylabel('Frequency')\n",
    "\n",
    "# # Plot histogram for angle_to_goal\n",
    "# axs[1].hist(df['angle_to_goal'], bins=20, edgecolor='black', color='darkseagreen')\n",
    "# axs[1].set_title('Histogram of Angle to Goal')\n",
    "# axs[1].set_xlabel('Angle to Goal')\n",
    "# axs[1].set_ylabel('Frequency')\n",
    "\n",
    "# # Adjust the layout\n",
    "# plt.tight_layout()\n",
    "# plt.show()"
   ]
  },
  {
   "cell_type": "markdown",
   "id": "43c1969e",
   "metadata": {},
   "source": [
    "comment"
   ]
  },
  {
   "cell_type": "code",
   "execution_count": 18,
   "id": "a424a452",
   "metadata": {},
   "outputs": [],
   "source": [
    "# # Plot distributions of distance to goal and angle to goal for shot events\n",
    "\n",
    "# fig, ax = plt.subplots(1, 2, figsize=(14, 6))\n",
    "\n",
    "# # Distance to goal\n",
    "# sns.histplot(df['distance_to_goal'], bins=30, kde=True, ax=ax[0], color='darkseagreen')\n",
    "# ax[0].set_title('Distance to Goal Distribution for Shot Events')\n",
    "# ax[0].set_xlabel('Distance to Goal')\n",
    "# ax[0].set_ylabel('Count')\n",
    "\n",
    "# # Angle to goal\n",
    "# sns.histplot(df['angle_to_goal'], bins=30, kde=True, ax=ax[1], color='darkseagreen')\n",
    "# ax[1].set_title('Angle to Goal Distribution for Shot Events')\n",
    "# ax[1].set_xlabel('Angle to Goal')\n",
    "# ax[1].set_ylabel('Count')\n",
    "\n",
    "# plt.tight_layout()\n",
    "# plt.show()"
   ]
  },
  {
   "cell_type": "markdown",
   "id": "7a692ae3",
   "metadata": {},
   "source": [
    "We create \n",
    "- a 2D histogram (heatmap) to show the frequency of shots from different locations on the pitch. This will help us understand where players are most likely to take shots from.\n",
    "- heatmap of goal locations. This can be used to identify areas of the pitch from which goals are commonly scored.\n",
    "- heatmap of probability of a shot resulting in a goal from each location on the pitch, which is essentially the basis of the Expected Goals model. "
   ]
  },
  {
   "cell_type": "code",
   "execution_count": 19,
   "id": "de9d6726",
   "metadata": {},
   "outputs": [],
   "source": [
    "# # Function to draw a simple football pitch\n",
    "# def draw_pitch():\n",
    "#     fig, ax = plt.subplots(figsize=(10, 6))\n",
    "\n",
    "#     # Set the limits of the pitch\n",
    "#     plt.xlim(0, 105)\n",
    "#     plt.ylim(0, 68)\n",
    "\n",
    "#     # Draw the boundaries of the pitch\n",
    "#     plt.plot([0, 0, 105, 105, 0], [0, 68, 68, 0, 0], color=\"black\")\n",
    "\n",
    "#     return fig, ax"
   ]
  },
  {
   "cell_type": "code",
   "execution_count": 20,
   "id": "53bfc0f1",
   "metadata": {},
   "outputs": [],
   "source": [
    "# def plot_shot_map(df):\n",
    "#     \"\"\"Plot a heatmap of shot locations on a football pitch.\"\"\"\n",
    "#     # Draw the pitch\n",
    "#     fig, ax = draw_pitch()\n",
    "\n",
    "#     # Create a 2D histogram (i.e., a heatmap) of the shot locations\n",
    "#     heatmap, _, _ = np.histogram2d(shot_df['X'], shot_df['Y'], bins=50, range=[[0, 105],[0, 68]])\n",
    "\n",
    "#     # Plot the heatmap\n",
    "#     pos = ax.imshow(heatmap.T, extent=[0, 105, 68, 0], origin='lower', aspect='auto', cmap=plt.cm.Reds)\n",
    "#     fig.colorbar(pos, ax=ax)\n",
    "\n",
    "#     # Set the title\n",
    "#     fig.suptitle('Shot map' , fontsize = 20)\n",
    "\n",
    "#     # Show the plot\n",
    "#     plt.show()\n",
    "\n",
    "# def plot_goal_map(goals_only):\n",
    "#     \"\"\"Plot a heatmap of goal locations on a football pitch.\"\"\"\n",
    "#     # Draw the pitch\n",
    "#     fig, ax = draw_pitch()\n",
    "\n",
    "#     # Create a 2D histogram (i.e., a heatmap) of the goal locations\n",
    "#     heatmap_goals, _, _ = np.histogram2d(goals_only['X'], goals_only['Y'], bins=50, range=[[0, 105],[0, 68]])\n",
    "\n",
    "#     # Plot the heatmap\n",
    "#     pos = ax.imshow(heatmap_goals.T, extent=[0, 105, 68, 0], origin='lower', aspect='auto', cmap=plt.cm.Reds)\n",
    "#     fig.colorbar(pos, ax=ax)\n",
    "\n",
    "#     # Set the title\n",
    "#     fig.suptitle('Goal map' , fontsize = 20)\n",
    "\n",
    "#     # Show the plot\n",
    "#     plt.show()\n",
    "\n",
    "# def plot_goal_probability(df, goals_only):\n",
    "#     \"\"\"Plot the probability of scoring a goal from each location on a football pitch.\"\"\"\n",
    "#     # Draw the pitch\n",
    "#     fig, ax = draw_pitch()\n",
    "\n",
    "#     # Create a 2D histogram for shots\n",
    "#     shot_hist, _, _ = np.histogram2d(shot_df['X'], shot_df['Y'], bins=(50, 30), range=[[0, 105],[0, 68]])\n",
    "\n",
    "#     # Create a 2D histogram for goals\n",
    "#     goal_hist, _, _ = np.histogram2d(goals_only['X'], goals_only['Y'], bins=(50, 30), range=[[0, 105],[0, 68]])\n",
    "\n",
    "#     # Calculate the goal probability\n",
    "#     goal_prob = np.divide(goal_hist, shot_hist, out=np.zeros_like(goal_hist), where=shot_hist!=0)\n",
    "\n",
    "#     # Plot the probability of scoring a goal from each location\n",
    "#     pos = ax.imshow(goal_prob.T, extent=[0, 105, 68, 0], origin='lower', aspect='auto', cmap=plt.cm.Reds)\n",
    "#     fig.colorbar(pos, ax=ax, label='Goal Probability')\n",
    "\n",
    "#     # Set the title\n",
    "#     fig.suptitle('Probability of Scoring a Goal Given Shot Location' , fontsize = 20)\n",
    "\n",
    "#     # Show the plot\n",
    "#     plt.show()\n",
    "\n",
    "# # Create a new dataframe for goals only\n",
    "# goals_only = shot_df[shot_df['is_goal'] == True]\n",
    "\n",
    "# # Plot the shot map, goal map, and goal probability map\n",
    "# plot_shot_map(shot_df)\n",
    "# plot_goal_map(goals_only)\n",
    "# plot_goal_probability(shot_df, goals_only)"
   ]
  },
  {
   "cell_type": "markdown",
   "id": "304d5d6f",
   "metadata": {},
   "source": [
    "We can also import the VerticalPitch from mplsoccer for a better visual."
   ]
  },
  {
   "cell_type": "code",
   "execution_count": 21,
   "id": "4f7467c0",
   "metadata": {},
   "outputs": [],
   "source": [
    "# #plot pitch\n",
    "# pitch = VerticalPitch(line_color='black', half = True, pitch_type='custom', pitch_length=105, pitch_width=68, line_zorder = 2)\n",
    "# fig, ax = pitch.grid(grid_height=0.9, title_height=0.06, axis=False,\n",
    "#                      endnote_height=0.04, title_space=0, endnote_space=0)\n",
    "# #subtracting x from 105 but not y from 68 because of inverted Wyscout axis\n",
    "# #calculate number of shots in each bin\n",
    "# bin_statistic_shots = pitch.bin_statistic(105 - shot_df['X'], shot_df['Y'], bins=50)\n",
    "# #make heatmap\n",
    "# pcm = pitch.heatmap(bin_statistic_shots, ax=ax[\"pitch\"], cmap='Reds', edgecolor='white', linewidth = 0.01)\n",
    "# #make legend\n",
    "# ax_cbar = fig.add_axes((0.95, 0.05, 0.04, 0.8))\n",
    "# cbar = plt.colorbar(pcm, cax=ax_cbar)\n",
    "# fig.suptitle('Shot map' , fontsize = 30)\n",
    "# plt.show()"
   ]
  },
  {
   "cell_type": "code",
   "execution_count": 22,
   "id": "f0fafcc2",
   "metadata": {},
   "outputs": [],
   "source": [
    "# # Create bins for distance and angle\n",
    "# distance_bins = np.linspace(0, df['distance_to_goal'].max(), 20)\n",
    "# angle_bins = np.linspace(0, df['angle_to_goal'].max(), 20)\n",
    "\n",
    "# # Calculate the total number of shots and goals in each bin for distance and angle\n",
    "# distance_counts_total, _ = np.histogram(df['distance_to_goal'], bins=distance_bins)\n",
    "# distance_counts_goals, _ = np.histogram(goals_only['distance_to_goal'], bins=distance_bins)\n",
    "# angle_counts_total, _ = np.histogram(df['angle_to_goal'], bins=angle_bins)\n",
    "# angle_counts_goals, _ = np.histogram(goals_only['angle_to_goal'], bins=angle_bins)\n",
    "\n",
    "\n",
    "# # Calculate the probability of scoring a goal for each bin (avoid division by zero)\n",
    "# distance_prob = np.divide(distance_counts_goals, distance_counts_total, out=np.zeros_like(distance_counts_goals, dtype='float64'), where=distance_counts_total!=0)\n",
    "# angle_prob = np.divide(angle_counts_goals, angle_counts_total, out=np.zeros_like(angle_counts_goals, dtype='float64'), where=angle_counts_total!=0)\n",
    "\n",
    "# # Create a figure with two subplots\n",
    "# fig, axs = plt.subplots(2, figsize=(10, 8))\n",
    "\n",
    "# # Plot histogram for distance to goal\n",
    "# axs[0].bar(distance_bins[:-1], distance_prob, width=np.diff(distance_bins), edgecolor='black', align='edge')\n",
    "# axs[0].set_title('Histogram of Distance to Goal vs Probability of Scoring')\n",
    "# axs[0].set_xlabel('Distance to Goal')\n",
    "# axs[0].set_ylabel('Probability of Scoring')\n",
    "\n",
    "# # Plot histogram for angle to goal\n",
    "# axs[1].bar(angle_bins[:-1], angle_prob, width=np.diff(angle_bins), edgecolor='black', align='edge')\n",
    "# axs[1].set_title('Histogram of Angle to Goal vs Probability of Scoring')\n",
    "# axs[1].set_xlabel('Angle to Goal')\n",
    "# axs[1].set_ylabel('Probability of Scoring')\n",
    "\n",
    "# # Adjust the layout\n",
    "# plt.tight_layout()\n",
    "# plt.show()\n"
   ]
  },
  {
   "cell_type": "markdown",
   "id": "f3c11aec",
   "metadata": {},
   "source": [
    "The histograms now show the probability of scoring a goal given the distance to the goal (first plot) and the angle to the goal (second plot).\n",
    "\n",
    "From the first plot, we can see that the closer the player is to the goal (smaller distance), the higher the probability of scoring a goal. As the distance to the goal increases, the probability of scoring a goal decreases.\n",
    "\n",
    "The second plot shows that the probability of scoring a goal is higher when the shot is taken from a wider angle. However, as the angle increases, the probability of scoring decreases.\n",
    "\n",
    "These plots give us some interesting insights into the characteristics of successful shots in soccer. Of course, the actual outcome of a shot can be influenced by many factors, including the skill of the player, the position of the goalkeeper and defenders, etc. But these plots provide a general idea of how shot location can influence the probability of scoring."
   ]
  },
  {
   "cell_type": "code",
   "execution_count": 23,
   "id": "58ef0a4c",
   "metadata": {},
   "outputs": [
    {
     "data": {
      "text/plain": [
       "(25846, 8616, 8616)"
      ]
     },
     "execution_count": 23,
     "metadata": {},
     "output_type": "execute_result"
    }
   ],
   "source": [
    "# Split the data into train, validation, and test sets\n",
    "df_train_full, df_test = train_test_split(df, test_size=0.2, random_state=11)\n",
    "df_train, df_val = train_test_split(df_train_full, test_size=0.25, random_state=11)\n",
    "\n",
    "\n",
    "# Separate the target variable\n",
    "y_train = df_train['is_goal'].values\n",
    "y_val = df_val['is_goal'].values\n",
    "y_test = df_test['is_goal'].values\n",
    "\n",
    "# Drop the target variable from the feature sets\n",
    "df_train = df_train.drop(columns='is_goal')\n",
    "df_val = df_val.drop(columns='is_goal')\n",
    "df_test = df_test.drop(columns='is_goal')\n",
    "\n",
    "len(df_train), len(df_val), len(df_test)"
   ]
  },
  {
   "cell_type": "code",
   "execution_count": 24,
   "id": "06cc511e",
   "metadata": {},
   "outputs": [
    {
     "data": {
      "text/plain": [
       "distance_to_goal    0\n",
       "angle_to_goal       0\n",
       "dtype: int64"
      ]
     },
     "execution_count": 24,
     "metadata": {},
     "output_type": "execute_result"
    }
   ],
   "source": [
    "df_train.isnull().sum()"
   ]
  },
  {
   "cell_type": "code",
   "execution_count": 25,
   "id": "fc893ba1",
   "metadata": {},
   "outputs": [],
   "source": [
    "# # Save the dataframes to parquet files\n",
    "# df_train.to_parquet('train_data.parquet')\n",
    "# df_val.to_parquet('val_data.parquet')\n",
    "# df_test.to_parquet('test_data.parquet')"
   ]
  },
  {
   "cell_type": "code",
   "execution_count": 26,
   "id": "dabaa629",
   "metadata": {},
   "outputs": [],
   "source": [
    "# Apply one-hot encoding to categorical features if we add any, numerical maintain the original values\n",
    "dv = DictVectorizer(sparse=False)\n",
    "\n",
    "X_train = dv.fit_transform(df_train.to_dict(orient='records'))\n",
    "X_val = dv.transform(df_val.to_dict(orient='records'))\n",
    "X_test = dv.transform(df_test.to_dict(orient='records'))\n"
   ]
  },
  {
   "cell_type": "code",
   "execution_count": 27,
   "id": "7bae7d74",
   "metadata": {},
   "outputs": [],
   "source": [
    "# from sklearn.preprocessing import StandardScaler\n",
    "\n",
    "# # Initialize the standard scaler\n",
    "# scaler = StandardScaler()\n",
    "\n",
    "# # Fit the standard scaler to the training data\n",
    "# scaler.fit(df_train)\n",
    "\n",
    "# # Transform the training, validation, and test data\n",
    "# X_train = scaler.transform(df_train)\n",
    "# X_val = scaler.transform(df_val)\n",
    "# X_test = scaler.transform(df_test)"
   ]
  },
  {
   "cell_type": "code",
   "execution_count": 28,
   "id": "c893b5c3",
   "metadata": {},
   "outputs": [
    {
     "name": "stdout",
     "output_type": "stream",
     "text": [
      "train auc: 0.735\n",
      "val auc: 0.727\n"
     ]
    }
   ],
   "source": [
    "dt = DecisionTreeClassifier(max_depth=2)\n",
    "dt.fit(X_train, y_train)\n",
    "\n",
    "y_pred = dt.predict_proba(X_train)[:, 1]\n",
    "auc = roc_auc_score(y_train, y_pred)\n",
    "print('train auc: %.3f' % auc)\n",
    "\n",
    "y_pred = dt.predict_proba(X_val)[:, 1]\n",
    "auc = roc_auc_score(y_val, y_pred)\n",
    "print('val auc: %.3f' % auc)"
   ]
  },
  {
   "cell_type": "code",
   "execution_count": 29,
   "id": "c296f728",
   "metadata": {},
   "outputs": [
    {
     "name": "stdout",
     "output_type": "stream",
     "text": [
      "train auc: 0.802\n",
      "val auc: 0.732\n"
     ]
    }
   ],
   "source": [
    "rf = RandomForestClassifier(n_estimators=30)\n",
    "rf.fit(X_train, y_train)\n",
    "\n",
    "y_pred = rf.predict_proba(X_train)[:, 1]\n",
    "auc = roc_auc_score(y_train, y_pred)\n",
    "print('train auc: %.3f' % auc)\n",
    "\n",
    "\n",
    "y_pred = rf.predict_proba(X_val)[:, 1]\n",
    "auc = roc_auc_score(y_val, y_pred)\n",
    "print('val auc: %.3f' % auc)"
   ]
  },
  {
   "cell_type": "code",
   "execution_count": 30,
   "id": "ef47b7ca",
   "metadata": {},
   "outputs": [],
   "source": [
    "# Convert the datasets into DMatrix\n",
    "dtrain = xgb.DMatrix(X_train, label=y_train, feature_names=dv.feature_names_)\n",
    "dval = xgb.DMatrix(X_val, label=y_val, feature_names=dv.feature_names_)\n",
    "dtest = xgb.DMatrix(X_test, label=y_test, feature_names=dv.feature_names_)\n"
   ]
  },
  {
   "cell_type": "code",
   "execution_count": 31,
   "id": "40ca4ad1",
   "metadata": {},
   "outputs": [],
   "source": [
    "# Define XGBoost parameters\n",
    "xgb_params = {\n",
    "    'eta': 0.3,\n",
    "    'max_depth': 6,\n",
    "    'min_child_weight': 1,\n",
    "    'objective': 'binary:logistic',\n",
    "    'nthread': 8,\n",
    "    'seed': 1\n",
    "}\n",
    "\n",
    "# Train the XGBoost model\n",
    "model = xgb.train(xgb_params, dtrain, num_boost_round=10)\n"
   ]
  },
  {
   "cell_type": "code",
   "execution_count": 32,
   "id": "587891a9",
   "metadata": {},
   "outputs": [
    {
     "name": "stdout",
     "output_type": "stream",
     "text": [
      "train auc: 0.782\n",
      "val auc: 0.754\n"
     ]
    }
   ],
   "source": [
    "# Predict the probabilities of positive class on training set\n",
    "y_train_pred = model.predict(dtrain)\n",
    "\n",
    "# Compute ROC AUC score for training set\n",
    "auc = roc_auc_score(y_train, y_train_pred)\n",
    "\n",
    "print('train auc: %.3f' % auc)\n",
    "\n",
    "# Predict the probabilities of positive class on validation set\n",
    "y_val_pred = model.predict(dval)\n",
    "\n",
    "# Compute ROC AUC score\n",
    "auc = roc_auc_score(y_val, y_val_pred)\n",
    "print('val auc: %.3f' % auc)"
   ]
  },
  {
   "cell_type": "code",
   "execution_count": 33,
   "id": "a52c2c9d",
   "metadata": {},
   "outputs": [
    {
     "name": "stdout",
     "output_type": "stream",
     "text": [
      "The test set contains 8616 examples (shots) of which 855 are positive (goals).\n",
      "The accuracy of classifying whether a shot is goal or not is 90.36%.\n",
      "\n",
      "Evaluation results:\n",
      "Number of correctly classified test examples: 7785\n",
      "Number of incorrectly classified test examples: 831\n",
      "ROC AUC: 0.75\n",
      "Precision: 63.64%\n",
      "Recall: 6.55%\n",
      "F1: 11.88%\n",
      "PR AUC: 0.29\n",
      "Cohen's Kappa: 0.10\n",
      "Time taken to evaluate the model: 0.01 seconds\n",
      "\n",
      "Classification Report:\n",
      "              precision    recall  f1-score   support\n",
      "\n",
      "           0       0.91      1.00      0.95      7761\n",
      "           1       0.64      0.07      0.12       855\n",
      "\n",
      "    accuracy                           0.90      8616\n",
      "   macro avg       0.77      0.53      0.53      8616\n",
      "weighted avg       0.88      0.90      0.87      8616\n",
      "\n"
     ]
    },
    {
     "data": {
      "image/png": "[encoded data removed]",
      "text/plain": [
       "<Figure size 640x480 with 2 Axes>"
      ]
     },
     "metadata": {},
     "output_type": "display_data"
    },
    {
     "data": {
      "image/png": "[encoded data removed]",
      "text/plain": [
       "<Figure size 640x480 with 1 Axes>"
      ]
     },
     "metadata": {},
     "output_type": "display_data"
    }
   ],
   "source": [
    "def evaluate_model_with_roc_curve_and_summary(model, X_test, y_test):\n",
    "    # Start the timer\n",
    "    start_time = time()\n",
    "\n",
    "    # Make predictions on the test set\n",
    "    y_pred = model.predict(X_test)\n",
    "\n",
    "    # Convert the continuous labels to binary labels\n",
    "    y_pred_class = (y_pred > 0.5).astype(int)\n",
    "\n",
    "    # Compute the ROC AUC score\n",
    "    roc_auc = roc_auc_score(y_test, y_pred)\n",
    "\n",
    "    # Compute the test accuracy\n",
    "    test_acc = accuracy_score(y_test, y_pred_class)\n",
    "\n",
    "    # Count the number of test examples and the number of correctly classified test examples\n",
    "    num_test_examples = len(y_test)\n",
    "    num_correctly_classified = test_acc * num_test_examples\n",
    "\n",
    "    # Stop the timer\n",
    "    end_time = time()\n",
    "\n",
    "    # Print the summary of test set\n",
    "    print(\"The test set contains {} examples (shots) of which {} are positive (goals).\".format(num_test_examples, y_test.sum()))\n",
    "    print(\"The accuracy of classifying whether a shot is goal or not is {:.2f}%.\".format(test_acc * 100))\n",
    "\n",
    "    # Print the evaluation results\n",
    "    print(\"\\nEvaluation results:\")\n",
    "    print(\"Number of correctly classified test examples: {}\".format(int(num_correctly_classified)))\n",
    "    print(\"Number of incorrectly classified test examples: {}\".format(int(num_test_examples - num_correctly_classified)))\n",
    "    print(\"ROC AUC: {:.2f}\".format(roc_auc))\n",
    "\n",
    "    # Compute the performance metrics\n",
    "    precision = precision_score(y_test, y_pred_class)\n",
    "    recall = recall_score(y_test, y_pred_class)\n",
    "    f1 = f1_score(y_test, y_pred_class)\n",
    "    print(\"Precision: {:.2f}%\".format(precision * 100))\n",
    "    print(\"Recall: {:.2f}%\".format(recall * 100))\n",
    "    print(\"F1: {:.2f}%\".format(f1 * 100))\n",
    "\n",
    "    # Compute the PR-AUC\n",
    "    average_precision = average_precision_score(y_test, y_pred)\n",
    "    print(\"PR AUC: {:.2f}\".format(average_precision))\n",
    "\n",
    "    # Compute Cohen's Kappa\n",
    "    kappa = cohen_kappa_score(y_test, y_pred_class)\n",
    "    print(\"Cohen's Kappa: {:.2f}\".format(kappa))\n",
    "\n",
    "    print(\"Time taken to evaluate the model: {:.2f} seconds\".format(end_time - start_time))\n",
    "\n",
    "\n",
    "    # Print the classification report\n",
    "    print(\"\\nClassification Report:\")\n",
    "    print(classification_report(y_test, y_pred_class))\n",
    "\n",
    "    # Plot the confusion matrix\n",
    "    confusion = confusion_matrix(y_test, y_pred_class)\n",
    "    sns.heatmap(confusion, annot=True, fmt=\"d\")\n",
    "    plt.title(\"Confusion Matrix\")\n",
    "    plt.show()\n",
    "\n",
    "    # Compute and plot the ROC curve\n",
    "    fpr, tpr, _ = roc_curve(y_test, y_pred)\n",
    "    plt.figure()\n",
    "    plt.plot(fpr, tpr, label='ROC curve (area = %0.2f)' % roc_auc)\n",
    "    plt.plot([0, 1], [0, 1], color='black', lw=0.7, linestyle='dashed', alpha=0.5)\n",
    "    plt.xlim([0.0, 1.0])\n",
    "    plt.ylim([0.0, 1.05])\n",
    "    plt.xlabel('False Positive Rate')\n",
    "    plt.ylabel('True Positive Rate')\n",
    "    plt.title('Receiver Operating Characteristic (ROC) Curve')\n",
    "    plt.legend(loc=\"lower right\")\n",
    "    plt.show()\n",
    "\n",
    "# Evaluate the model on the validation set with ROC curve\n",
    "evaluate_model_with_roc_curve_and_summary(model, dval, y_val)\n"
   ]
  },
  {
   "cell_type": "markdown",
   "id": "84cbe069",
   "metadata": {},
   "source": [
    "The model is struggling to correctly classify the minority class (goals). This is a common issue when dealing with imbalanced datasets, where one class (no goal) vastly outnumbers the other (goal). "
   ]
  },
  {
   "cell_type": "code",
   "execution_count": 34,
   "id": "f52af244",
   "metadata": {},
   "outputs": [
    {
     "name": "stdout",
     "output_type": "stream",
     "text": [
      "Feature: distance_to_goal, Importance: 16.087261199951172\n",
      "Feature: angle_to_goal, Importance: 5.220418930053711\n"
     ]
    }
   ],
   "source": [
    "# Get feature importances\n",
    "feature_importances = model.get_score(importance_type='gain')\n",
    "\n",
    "# Sort the features by their importance\n",
    "sorted_feature_importances = sorted(feature_importances.items(), key=lambda x: x[1], reverse=True)\n",
    "\n",
    "# Print the features and their importances\n",
    "for feature, importance in sorted_feature_importances:\n",
    "    print(f\"Feature: {feature}, Importance: {importance}\")\n"
   ]
  },
  {
   "cell_type": "code",
   "execution_count": 35,
   "id": "45a6652e",
   "metadata": {},
   "outputs": [],
   "source": [
    "def save_model(dv, model, model_path):\n",
    "    \"\"\"\n",
    "    Function to save the model.\n",
    "    \"\"\"\n",
    "    if not os.path.exists(os.path.dirname(model_path)):\n",
    "        os.makedirs(os.path.dirname(model_path))\n",
    "\n",
    "    with open(model_path, 'wb') as f_out:\n",
    "        joblib.dump((dv, model), f_out)"
   ]
  },
  {
   "cell_type": "code",
   "execution_count": 36,
   "id": "266e385d",
   "metadata": {},
   "outputs": [
    {
     "ename": "NameError",
     "evalue": "name 'joblib' is not defined",
     "output_type": "error",
     "traceback": [
      "\u001b[1;31m---------------------------------------------------------------------------\u001b[0m",
      "\u001b[1;31mNameError\u001b[0m                                 Traceback (most recent call last)",
      "Cell \u001b[1;32mIn [36], line 1\u001b[0m\n\u001b[1;32m----> 1\u001b[0m \u001b[43msave_model\u001b[49m\u001b[43m(\u001b[49m\u001b[43mdv\u001b[49m\u001b[43m,\u001b[49m\u001b[43m \u001b[49m\u001b[43mmodel\u001b[49m\u001b[43m,\u001b[49m\u001b[43m \u001b[49m\u001b[38;5;124;43m'\u001b[39;49m\u001b[38;5;124;43mmodels/xgb.bin\u001b[39;49m\u001b[38;5;124;43m'\u001b[39;49m\u001b[43m)\u001b[49m\n",
      "Cell \u001b[1;32mIn [35], line 9\u001b[0m, in \u001b[0;36msave_model\u001b[1;34m(dv, model, model_path)\u001b[0m\n\u001b[0;32m      6\u001b[0m     os\u001b[38;5;241m.\u001b[39mmakedirs(os\u001b[38;5;241m.\u001b[39mpath\u001b[38;5;241m.\u001b[39mdirname(model_path))\n\u001b[0;32m      8\u001b[0m \u001b[38;5;28;01mwith\u001b[39;00m \u001b[38;5;28mopen\u001b[39m(model_path, \u001b[38;5;124m'\u001b[39m\u001b[38;5;124mwb\u001b[39m\u001b[38;5;124m'\u001b[39m) \u001b[38;5;28;01mas\u001b[39;00m f_out:\n\u001b[1;32m----> 9\u001b[0m     \u001b[43mjoblib\u001b[49m\u001b[38;5;241m.\u001b[39mdump((dv, model), f_out)\n",
      "\u001b[1;31mNameError\u001b[0m: name 'joblib' is not defined"
     ]
    }
   ],
   "source": [
    "save_model(dv, model, 'models/xgb.bin')"
   ]
  }
 ],
 "metadata": {
  "kernelspec": {
   "display_name": "Python 3 (ipykernel)",
   "language": "python",
   "name": "python3"
  },
  "language_info": {
   "codemirror_mode": {
    "name": "ipython",
    "version": 3
   },
   "file_extension": ".py",
   "mimetype": "text/x-python",
   "name": "python",
   "nbconvert_exporter": "python",
   "pygments_lexer": "ipython3",
   "version": "3.9.13"
  },
  "latex_envs": {
   "LaTeX_envs_menu_present": true,
   "autoclose": false,
   "autocomplete": true,
   "bibliofile": "biblio.bib",
   "cite_by": "apalike",
   "current_citInitial": 1,
   "eqLabelWithNumbers": true,
   "eqNumInitial": 1,
   "hotkeys": {
    "equation": "Ctrl-E",
    "itemize": "Ctrl-I"
   },
   "labels_anchors": false,
   "latex_user_defs": false,
   "report_style_numbering": false,
   "user_envs_cfg": false
  },
  "toc": {
   "base_numbering": 1,
   "nav_menu": {},
   "number_sections": true,
   "sideBar": true,
   "skip_h1_title": false,
   "title_cell": "Table of Contents",
   "title_sidebar": "Contents",
   "toc_cell": false,
   "toc_position": {},
   "toc_section_display": true,
   "toc_window_display": false
  }
 },
 "nbformat": 4,
 "nbformat_minor": 5
}
